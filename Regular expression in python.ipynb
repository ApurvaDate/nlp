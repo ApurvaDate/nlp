{
 "cells": [
  {
   "cell_type": "code",
   "execution_count": 1,
   "id": "b1a18cb3",
   "metadata": {},
   "outputs": [],
   "source": [
    "import re"
   ]
  },
  {
   "cell_type": "code",
   "execution_count": 2,
   "id": "bceba3d5",
   "metadata": {},
   "outputs": [],
   "source": [
    "text='''Elon musk phone number is 9932836892. call him if you have any questions on dogdecoin. Tesla revenue in 40 billion \n",
    "Teslas CFO number is (900)-333-7777\n",
    "'''"
   ]
  },
  {
   "cell_type": "code",
   "execution_count": 3,
   "id": "6cbc9de9",
   "metadata": {},
   "outputs": [],
   "source": [
    "pattern='\\(\\d{3}\\)-\\d{3}-\\d{4}'"
   ]
  },
  {
   "cell_type": "code",
   "execution_count": 4,
   "id": "26c16a1c",
   "metadata": {},
   "outputs": [],
   "source": [
    "matches= re.findall(pattern,text)"
   ]
  },
  {
   "cell_type": "code",
   "execution_count": 5,
   "id": "cbb34c59",
   "metadata": {},
   "outputs": [
    {
     "data": {
      "text/plain": [
       "['(900)-333-7777']"
      ]
     },
     "execution_count": 5,
     "metadata": {},
     "output_type": "execute_result"
    }
   ],
   "source": [
    "matches"
   ]
  },
  {
   "cell_type": "code",
   "execution_count": 6,
   "id": "d40499ae",
   "metadata": {},
   "outputs": [],
   "source": [
    "#if we want both the numbers use\n",
    "pattern1='\\(\\d{3}\\)-\\d{3}-\\d{4}|\\d{10}' \n",
    "#here | means OR"
   ]
  },
  {
   "cell_type": "code",
   "execution_count": 7,
   "id": "189b5cc4",
   "metadata": {},
   "outputs": [
    {
     "data": {
      "text/plain": [
       "['9932836892', '(900)-333-7777']"
      ]
     },
     "execution_count": 7,
     "metadata": {},
     "output_type": "execute_result"
    }
   ],
   "source": [
    "matches1=re.findall(pattern1,text)\n",
    "matches1"
   ]
  },
  {
   "cell_type": "code",
   "execution_count": 8,
   "id": "f2b15e9a",
   "metadata": {},
   "outputs": [],
   "source": [
    "text='''the gross cost of operating year for FY2021 & FY2022 is 50 billion for second quarter Q2 ,and in the next quarter \n",
    "it might be 80 billion'''"
   ]
  },
  {
   "cell_type": "code",
   "execution_count": 9,
   "id": "44582323",
   "metadata": {},
   "outputs": [],
   "source": [
    "#to extract financial year"
   ]
  },
  {
   "cell_type": "code",
   "execution_count": 10,
   "id": "30938dbc",
   "metadata": {},
   "outputs": [],
   "source": [
    "pattern='FY\\d{4}|Q[1-4]'"
   ]
  },
  {
   "cell_type": "code",
   "execution_count": 11,
   "id": "97b282df",
   "metadata": {},
   "outputs": [
    {
     "data": {
      "text/plain": [
       "['FY2021', 'FY2022', 'Q2']"
      ]
     },
     "execution_count": 11,
     "metadata": {},
     "output_type": "execute_result"
    }
   ],
   "source": [
    "re.findall(pattern,text)"
   ]
  },
  {
   "cell_type": "code",
   "execution_count": 12,
   "id": "35ec9273",
   "metadata": {},
   "outputs": [],
   "source": [
    "#to deal with lowercase"
   ]
  },
  {
   "cell_type": "code",
   "execution_count": 14,
   "id": "39c68a88",
   "metadata": {},
   "outputs": [],
   "source": [
    "text='''the gross cost of operating year for fY2021 & FY2022 is 50 billion for second quarter Q2 ,and in the next quarter \n",
    "it might be 80 billion'''"
   ]
  },
  {
   "cell_type": "code",
   "execution_count": 15,
   "id": "ebced9ca",
   "metadata": {},
   "outputs": [],
   "source": [
    "pattern='FY\\d{4}|Q[1-4]'"
   ]
  },
  {
   "cell_type": "code",
   "execution_count": 16,
   "id": "577b7496",
   "metadata": {},
   "outputs": [
    {
     "data": {
      "text/plain": [
       "['fY2021', 'FY2022', 'Q2']"
      ]
     },
     "execution_count": 16,
     "metadata": {},
     "output_type": "execute_result"
    }
   ],
   "source": [
    "re.findall(pattern,text,flags=re.IGNORECASE)"
   ]
  },
  {
   "cell_type": "code",
   "execution_count": 18,
   "id": "a364bc6a",
   "metadata": {},
   "outputs": [],
   "source": [
    "#to extract the actual value \n",
    "text='''the gross cost of operating year for fY2021 & FY2022 is $50.56 billion for second quarter Q2 ,and in the next quarter \n",
    "it might be $80.21 billion'''"
   ]
  },
  {
   "cell_type": "code",
   "execution_count": 21,
   "id": "5b096dc7",
   "metadata": {},
   "outputs": [],
   "source": [
    "pattern='\\$[\\d{2}\\.]+'"
   ]
  },
  {
   "cell_type": "code",
   "execution_count": 22,
   "id": "ab944302",
   "metadata": {},
   "outputs": [
    {
     "data": {
      "text/plain": [
       "['$50.56', '$80.21']"
      ]
     },
     "execution_count": 22,
     "metadata": {},
     "output_type": "execute_result"
    }
   ],
   "source": [
    "re.findall(pattern,text)"
   ]
  },
  {
   "cell_type": "code",
   "execution_count": null,
   "id": "ba00dbfa",
   "metadata": {},
   "outputs": [],
   "source": [
    "#remove dollar sign"
   ]
  },
  {
   "cell_type": "code",
   "execution_count": 23,
   "id": "98b0a152",
   "metadata": {},
   "outputs": [],
   "source": [
    "pattern='\\$([\\d{2}\\.]+)'"
   ]
  },
  {
   "cell_type": "code",
   "execution_count": 25,
   "id": "80577b6a",
   "metadata": {},
   "outputs": [
    {
     "data": {
      "text/plain": [
       "['50.56', '80.21']"
      ]
     },
     "execution_count": 25,
     "metadata": {},
     "output_type": "execute_result"
    }
   ],
   "source": [
    "re.findall(pattern,text) #so here the dollar signs are gone"
   ]
  },
  {
   "cell_type": "code",
   "execution_count": 26,
   "id": "5059c171",
   "metadata": {},
   "outputs": [],
   "source": [
    "#suppose we want to extract FY2021 & $50.56 both "
   ]
  },
  {
   "cell_type": "code",
   "execution_count": 48,
   "id": "83f2afdb",
   "metadata": {},
   "outputs": [],
   "source": [
    "#to extract the actual value \n",
    "text='''the gross cost of operating year for fY2021 & FY2022-Q2 is $50.56 billion for second quarter ,and in the next quarter \n",
    "it might be $80.21 billion'''"
   ]
  },
  {
   "cell_type": "code",
   "execution_count": 55,
   "id": "8bdf0d81",
   "metadata": {},
   "outputs": [],
   "source": [
    "pattern='FY(\\d{4}-Q[1-4])[^\\$]+\\$([\\d{2}\\.]+)'"
   ]
  },
  {
   "cell_type": "code",
   "execution_count": 56,
   "id": "de102d77",
   "metadata": {},
   "outputs": [
    {
     "data": {
      "text/plain": [
       "[]"
      ]
     },
     "execution_count": 56,
     "metadata": {},
     "output_type": "execute_result"
    }
   ],
   "source": [
    "re.findall(text,pattern)#to check this again"
   ]
  },
  {
   "cell_type": "code",
   "execution_count": 57,
   "id": "5152c213",
   "metadata": {},
   "outputs": [
    {
     "data": {
      "text/plain": [
       "<re.Match object; span=(46, 65), match='FY2022-Q2 is $50.56'>"
      ]
     },
     "execution_count": 57,
     "metadata": {},
     "output_type": "execute_result"
    }
   ],
   "source": [
    "re.search(pattern,text)"
   ]
  },
  {
   "cell_type": "code",
   "execution_count": null,
   "id": "fc1bab09",
   "metadata": {},
   "outputs": [],
   "source": []
  },
  {
   "cell_type": "code",
   "execution_count": null,
   "id": "c4a06c3c",
   "metadata": {},
   "outputs": [],
   "source": []
  }
 ],
 "metadata": {
  "kernelspec": {
   "display_name": "Python 3 (ipykernel)",
   "language": "python",
   "name": "python3"
  },
  "language_info": {
   "codemirror_mode": {
    "name": "ipython",
    "version": 3
   },
   "file_extension": ".py",
   "mimetype": "text/x-python",
   "name": "python",
   "nbconvert_exporter": "python",
   "pygments_lexer": "ipython3",
   "version": "3.10.9"
  }
 },
 "nbformat": 4,
 "nbformat_minor": 5
}

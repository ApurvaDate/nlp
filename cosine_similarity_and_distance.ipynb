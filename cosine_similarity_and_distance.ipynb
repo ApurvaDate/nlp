{
 "cells": [
  {
   "cell_type": "code",
   "execution_count": 1,
   "id": "26d3a10f",
   "metadata": {},
   "outputs": [],
   "source": [
    "from sklearn.metrics.pairwise import cosine_similarity, cosine_distances"
   ]
  },
  {
   "cell_type": "code",
   "execution_count": 2,
   "id": "e4bb4400",
   "metadata": {},
   "outputs": [
    {
     "data": {
      "text/plain": [
       "array([[1.]])"
      ]
     },
     "execution_count": 2,
     "metadata": {},
     "output_type": "execute_result"
    }
   ],
   "source": [
    "cosine_similarity([[3,1]],[[6,2]])"
   ]
  },
  {
   "cell_type": "code",
   "execution_count": 3,
   "id": "5dcc7ea0",
   "metadata": {},
   "outputs": [],
   "source": [
    "#here similarity is 1 which means documents are equal"
   ]
  },
  {
   "cell_type": "code",
   "execution_count": 4,
   "id": "4c388c42",
   "metadata": {},
   "outputs": [
    {
     "data": {
      "text/plain": [
       "array([[1.11022302e-16]])"
      ]
     },
     "execution_count": 4,
     "metadata": {},
     "output_type": "execute_result"
    }
   ],
   "source": [
    "cosine_distances([[3,1]],[[6,2]])"
   ]
  },
  {
   "cell_type": "code",
   "execution_count": 6,
   "id": "aed3227c",
   "metadata": {},
   "outputs": [
    {
     "data": {
      "text/plain": [
       "array([[0.96476382]])"
      ]
     },
     "execution_count": 6,
     "metadata": {},
     "output_type": "execute_result"
    }
   ],
   "source": [
    "cosine_similarity([[3,1]],[[3,2]])"
   ]
  },
  {
   "cell_type": "code",
   "execution_count": 7,
   "id": "7cd593f6",
   "metadata": {},
   "outputs": [
    {
     "data": {
      "text/plain": [
       "array([[0.03523618]])"
      ]
     },
     "execution_count": 7,
     "metadata": {},
     "output_type": "execute_result"
    }
   ],
   "source": [
    "cosine_distances([[3,1]],[[3,2]])"
   ]
  },
  {
   "cell_type": "code",
   "execution_count": 8,
   "id": "f4528b73",
   "metadata": {},
   "outputs": [],
   "source": [
    "doc1 = \"\"\" The latest iPhone models are the iPhone 15 and iPhone 15 Pro. The prices of these models vary depending on the storage capacity and other features. You can check the latest prices on the official Apple website1.\n",
    "\n",
    "Additionally, you can also purchase the latest iPhone models from other online retailers such as Amazon and Flipkart. The prices on these websites may vary depending on the seller and the location23.\n",
    "\n",
    "I hope this helps!\n",
    "\"\"\"\n",
    "\n",
    "doc2 = \"\"\" The iPhone 15 features a 6.1-inch (155 mm) display with Super Retina XDR OLED technology at a resolution of 2556×1179 pixels and a pixel density of about 460 PPI with a refresh rate of 60 Hz. The iPhone 15 Plus features a 6.7-inch (170 mm) display with the same technology at a resolution of 2796×1290 pixels and a pixel density of about 460 PPI. Both models have an improved typical brightness of up to 1,000 nits, a peak HDR brightness of up to 1,600 nits, and a peak outdoor brig…\n",
    "\"\"\""
   ]
  },
  {
   "cell_type": "code",
   "execution_count": null,
   "id": "f715b400",
   "metadata": {},
   "outputs": [],
   "source": [
    "import pandas as pd\n",
    "df = pd.DataFrame({\n",
    "    \n",
    "})"
   ]
  }
 ],
 "metadata": {
  "kernelspec": {
   "display_name": "Python 3 (ipykernel)",
   "language": "python",
   "name": "python3"
  },
  "language_info": {
   "codemirror_mode": {
    "name": "ipython",
    "version": 3
   },
   "file_extension": ".py",
   "mimetype": "text/x-python",
   "name": "python",
   "nbconvert_exporter": "python",
   "pygments_lexer": "ipython3",
   "version": "3.10.9"
  }
 },
 "nbformat": 4,
 "nbformat_minor": 5
}

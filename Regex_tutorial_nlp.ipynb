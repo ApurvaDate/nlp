{
 "cells": [
  {
   "cell_type": "code",
   "execution_count": 1,
   "id": "9bd1123c",
   "metadata": {},
   "outputs": [],
   "source": [
    "import re"
   ]
  },
  {
   "cell_type": "code",
   "execution_count": 2,
   "id": "3955d23d",
   "metadata": {},
   "outputs": [],
   "source": [
    "#it allows us to use pattern matching"
   ]
  },
  {
   "cell_type": "code",
   "execution_count": 10,
   "id": "241b33f4",
   "metadata": {},
   "outputs": [],
   "source": [
    "chat1 = 'codebasics: you ask lot of questions  1235678912, abc@xyz.com, 9998881234'\n",
    "chat2 = 'codebasics: here it is (123)-567-8912, abc@xyz.com'\n",
    "chat3 = 'codebasics: yes,phone: 1235678912, email:abc@xyz.com'"
   ]
  },
  {
   "cell_type": "code",
   "execution_count": 4,
   "id": "63e204ba",
   "metadata": {},
   "outputs": [],
   "source": [
    "#so we are going to extract phone number and email id first\n",
    "#phone number is a sequence of 10 digits"
   ]
  },
  {
   "cell_type": "code",
   "execution_count": 5,
   "id": "466d0644",
   "metadata": {},
   "outputs": [],
   "source": [
    "#for any digits we use \\d, so ]d will match only single digit"
   ]
  },
  {
   "cell_type": "code",
   "execution_count": 6,
   "id": "824683dc",
   "metadata": {},
   "outputs": [],
   "source": [
    "#a{3} = exactly 3 of a"
   ]
  },
  {
   "cell_type": "code",
   "execution_count": 11,
   "id": "b65ee1a6",
   "metadata": {},
   "outputs": [
    {
     "data": {
      "text/plain": [
       "['1235678912', '9998881234']"
      ]
     },
     "execution_count": 11,
     "metadata": {},
     "output_type": "execute_result"
    }
   ],
   "source": [
    "pattern = '\\d{10}'\n",
    "matches = re.findall(pattern,chat1) #pattern and text\n",
    "matches"
   ]
  },
  {
   "cell_type": "code",
   "execution_count": 12,
   "id": "3c04d006",
   "metadata": {},
   "outputs": [
    {
     "data": {
      "text/plain": [
       "['1235678912']"
      ]
     },
     "execution_count": 12,
     "metadata": {},
     "output_type": "execute_result"
    }
   ],
   "source": [
    "matches = re.findall(pattern,chat3) #pattern and text\n",
    "matches"
   ]
  },
  {
   "cell_type": "code",
   "execution_count": 15,
   "id": "1b23ec98",
   "metadata": {},
   "outputs": [
    {
     "data": {
      "text/plain": [
       "['(123)-567-8912']"
      ]
     },
     "execution_count": 15,
     "metadata": {},
     "output_type": "execute_result"
    }
   ],
   "source": [
    "#for chat 2 to get the phone number\n",
    "#() captures everything\n",
    "pattern = '\\(\\d{3}\\)-\\d{3}-\\d{4}'\n",
    "matches = re.findall(pattern,chat2)\n",
    "matches"
   ]
  },
  {
   "cell_type": "code",
   "execution_count": 20,
   "id": "adfe84df",
   "metadata": {},
   "outputs": [
    {
     "name": "stdout",
     "output_type": "stream",
     "text": [
      "['1235678912', '9998881234']\n",
      "['(123)-567-8912']\n",
      "['1235678912']\n"
     ]
    }
   ],
   "source": [
    "#if we want to get both we write or\n",
    "\n",
    "pattern = '\\d{10}|\\(\\d{3}\\)-\\d{3}-\\d{4}'\n",
    "print(re.findall(pattern,chat1))\n",
    "print(re.findall(pattern,chat2))\n",
    "print(re.findall(pattern,chat3))\n",
    "\n",
    "#now it is matching all"
   ]
  },
  {
   "cell_type": "code",
   "execution_count": null,
   "id": "7c953560",
   "metadata": {},
   "outputs": [],
   "source": []
  }
 ],
 "metadata": {
  "kernelspec": {
   "display_name": "Python 3 (ipykernel)",
   "language": "python",
   "name": "python3"
  },
  "language_info": {
   "codemirror_mode": {
    "name": "ipython",
    "version": 3
   },
   "file_extension": ".py",
   "mimetype": "text/x-python",
   "name": "python",
   "nbconvert_exporter": "python",
   "pygments_lexer": "ipython3",
   "version": "3.10.9"
  }
 },
 "nbformat": 4,
 "nbformat_minor": 5
}

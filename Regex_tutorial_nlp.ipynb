{
 "cells": [
  {
   "cell_type": "code",
   "execution_count": 1,
   "id": "9bd1123c",
   "metadata": {},
   "outputs": [],
   "source": [
    "import re"
   ]
  },
  {
   "cell_type": "code",
   "execution_count": 2,
   "id": "3955d23d",
   "metadata": {},
   "outputs": [],
   "source": [
    "#it allows us to use pattern matching"
   ]
  },
  {
   "cell_type": "code",
   "execution_count": 3,
   "id": "241b33f4",
   "metadata": {},
   "outputs": [],
   "source": [
    "chat1 = 'codebasics: you ask lot of questions  1235678912, abc@xyz.com, 9998881234'\n",
    "chat2 = 'codebasics: here it is (123)-567-8912, abX_82@xyz.com'\n",
    "chat3 = 'codebasics: yes,phone: 1235678912, email:abc@xyz.com'"
   ]
  },
  {
   "cell_type": "code",
   "execution_count": 4,
   "id": "63e204ba",
   "metadata": {},
   "outputs": [],
   "source": [
    "#so we are going to extract phone number and email id first\n",
    "#phone number is a sequence of 10 digits"
   ]
  },
  {
   "cell_type": "code",
   "execution_count": 5,
   "id": "466d0644",
   "metadata": {},
   "outputs": [],
   "source": [
    "#for any digits we use \\d, so ]d will match only single digit"
   ]
  },
  {
   "cell_type": "code",
   "execution_count": 6,
   "id": "824683dc",
   "metadata": {},
   "outputs": [],
   "source": [
    "#a{3} = exactly 3 of a"
   ]
  },
  {
   "cell_type": "code",
   "execution_count": 7,
   "id": "b65ee1a6",
   "metadata": {},
   "outputs": [
    {
     "data": {
      "text/plain": [
       "['1235678912', '9998881234']"
      ]
     },
     "execution_count": 7,
     "metadata": {},
     "output_type": "execute_result"
    }
   ],
   "source": [
    "pattern = '\\d{10}'\n",
    "matches = re.findall(pattern,chat1) #pattern and text\n",
    "matches"
   ]
  },
  {
   "cell_type": "code",
   "execution_count": 8,
   "id": "3c04d006",
   "metadata": {},
   "outputs": [
    {
     "data": {
      "text/plain": [
       "['1235678912']"
      ]
     },
     "execution_count": 8,
     "metadata": {},
     "output_type": "execute_result"
    }
   ],
   "source": [
    "matches = re.findall(pattern,chat3) #pattern and text\n",
    "matches"
   ]
  },
  {
   "cell_type": "code",
   "execution_count": 9,
   "id": "1b23ec98",
   "metadata": {},
   "outputs": [
    {
     "data": {
      "text/plain": [
       "['(123)-567-8912']"
      ]
     },
     "execution_count": 9,
     "metadata": {},
     "output_type": "execute_result"
    }
   ],
   "source": [
    "#for chat 2 to get the phone number\n",
    "#() captures everything\n",
    "pattern = '\\(\\d{3}\\)-\\d{3}-\\d{4}'\n",
    "matches = re.findall(pattern,chat2)\n",
    "matches"
   ]
  },
  {
   "cell_type": "code",
   "execution_count": 10,
   "id": "adfe84df",
   "metadata": {},
   "outputs": [
    {
     "name": "stdout",
     "output_type": "stream",
     "text": [
      "['1235678912', '9998881234']\n",
      "['(123)-567-8912']\n",
      "['1235678912']\n"
     ]
    }
   ],
   "source": [
    "#if we want to get both we write or\n",
    "\n",
    "pattern = '\\d{10}|\\(\\d{3}\\)-\\d{3}-\\d{4}'\n",
    "print(re.findall(pattern,chat1))\n",
    "print(re.findall(pattern,chat2))\n",
    "print(re.findall(pattern,chat3))\n",
    "\n",
    "#now it is matching all"
   ]
  },
  {
   "cell_type": "code",
   "execution_count": 11,
   "id": "7c953560",
   "metadata": {},
   "outputs": [],
   "source": [
    "#to extract email id"
   ]
  },
  {
   "cell_type": "code",
   "execution_count": 12,
   "id": "a02caa7d",
   "metadata": {},
   "outputs": [
    {
     "data": {
      "text/plain": [
       "['abc@xyz.com']"
      ]
     },
     "execution_count": 12,
     "metadata": {},
     "output_type": "execute_result"
    }
   ],
   "source": [
    "#any number from 0-9\n",
    "#characters from a-z and A-Z\n",
    "pattern = \"[a-z0-9A-Z_]*@[a-z0-9A-Z]*\\.[a-zA-Z]*\"\n",
    "re.findall(pattern,chat1)"
   ]
  },
  {
   "cell_type": "code",
   "execution_count": 13,
   "id": "2f0d70f4",
   "metadata": {},
   "outputs": [
    {
     "data": {
      "text/plain": [
       "['abX_82@xyz.com']"
      ]
     },
     "execution_count": 13,
     "metadata": {},
     "output_type": "execute_result"
    }
   ],
   "source": [
    "re.findall(pattern,chat2)"
   ]
  },
  {
   "cell_type": "code",
   "execution_count": 14,
   "id": "e07159a9",
   "metadata": {},
   "outputs": [
    {
     "data": {
      "text/plain": [
       "['abc@xyz.com']"
      ]
     },
     "execution_count": 14,
     "metadata": {},
     "output_type": "execute_result"
    }
   ],
   "source": [
    "re.findall(pattern,chat3)"
   ]
  },
  {
   "cell_type": "code",
   "execution_count": 15,
   "id": "98db24bb",
   "metadata": {},
   "outputs": [],
   "source": [
    "#so here we got our email and phone number"
   ]
  },
  {
   "cell_type": "code",
   "execution_count": 16,
   "id": "1c9d8e09",
   "metadata": {},
   "outputs": [],
   "source": [
    "#to get the order\n",
    "chat1 = \"codebasics: Hello, I am having an issue with my order # 41123456\"\n",
    "chat2 = \"codebasics: I have a problem with my order number 41123456\"\n",
    "chat3 = \"codebasics: My order 41123456 is having an issue, I was charged 300$ when online it says 280$\"\n"
   ]
  },
  {
   "cell_type": "code",
   "execution_count": 17,
   "id": "498d5448",
   "metadata": {},
   "outputs": [
    {
     "data": {
      "text/plain": [
       "['41123456']"
      ]
     },
     "execution_count": 17,
     "metadata": {},
     "output_type": "execute_result"
    }
   ],
   "source": [
    "pattern = 'order[^\\d]*(\\d*)'\n",
    "re.findall(pattern,chat1)"
   ]
  },
  {
   "cell_type": "code",
   "execution_count": 18,
   "id": "ff2cb047",
   "metadata": {},
   "outputs": [
    {
     "data": {
      "text/plain": [
       "['41123456']"
      ]
     },
     "execution_count": 18,
     "metadata": {},
     "output_type": "execute_result"
    }
   ],
   "source": [
    "re.findall(pattern,chat2)"
   ]
  },
  {
   "cell_type": "code",
   "execution_count": 19,
   "id": "3ae3b3fa",
   "metadata": {},
   "outputs": [
    {
     "data": {
      "text/plain": [
       "['41123456']"
      ]
     },
     "execution_count": 19,
     "metadata": {},
     "output_type": "execute_result"
    }
   ],
   "source": [
    "re.findall(pattern,chat3)"
   ]
  },
  {
   "cell_type": "markdown",
   "id": "f3dcf6c9",
   "metadata": {},
   "source": [
    "#### Information extraction"
   ]
  },
  {
   "cell_type": "code",
   "execution_count": 20,
   "id": "a4e96c50",
   "metadata": {},
   "outputs": [],
   "source": [
    "#usually we write scrapping code\n"
   ]
  },
  {
   "cell_type": "code",
   "execution_count": 21,
   "id": "d93f9108",
   "metadata": {},
   "outputs": [],
   "source": [
    "chat4 = \"\"\"\n",
    "Born   Elon Reeve Musk\n",
    "June 28, 1971 (age 52)\n",
    "Pretoria, Transvaal, South Africa\n",
    "Citizenship\t\n",
    "South Africa\n",
    "Canada\n",
    "United States\n",
    "Education\tUniversity of Pennsylvania (BA, BS)\n",
    "Title\t\n",
    "Founder, CEO, and chief engineer of SpaceX\n",
    "CEO and product architect of Tesla, Inc.\n",
    "Owner and CTO of X, formerly Twitter\n",
    "President of the Musk Foundation\n",
    "Founder of The Boring Company, X Corp., and xAI\n",
    "Co-founder of Neuralink, OpenAI, Zip2, and X.com (part of PayPal)\n",
    "Spouses\t\n",
    "Justine Wilson\n",
    "​\n",
    "​(m. 2000; div. 2008)​\n",
    "Talulah Riley\n",
    "​\n",
    "​(m. 2010; div. 2012)​\n",
    "​\n",
    "​(m. 2013; div. 2016)​\n",
    "Partners\t\n",
    "Amber Heard (2015–2017)[1]\n",
    "Grimes (2018–2021)[2]\n",
    "Children\t11[a][4]\n",
    "Parents\t\n",
    "Errol Musk\n",
    "Maye Musk\n",
    "Relatives\t\n",
    "Kimbal Musk (brother)\n",
    "Tosca Musk (sister)\n",
    "Lyndon Rive (cousin)\n",
    "Family\tMusk family\n",
    "\n",
    "\"\"\""
   ]
  },
  {
   "cell_type": "code",
   "execution_count": 22,
   "id": "c159fc39",
   "metadata": {},
   "outputs": [
    {
     "data": {
      "text/plain": [
       "['52']"
      ]
     },
     "execution_count": 22,
     "metadata": {},
     "output_type": "execute_result"
    }
   ],
   "source": [
    "#to retrive of a person\n",
    "pattern = 'age (\\d+)'\n",
    "re.findall(pattern,chat4)"
   ]
  },
  {
   "cell_type": "code",
   "execution_count": 23,
   "id": "679c8dae",
   "metadata": {},
   "outputs": [
    {
     "data": {
      "text/plain": [
       "['  Elon Reeve Musk']"
      ]
     },
     "execution_count": 23,
     "metadata": {},
     "output_type": "execute_result"
    }
   ],
   "source": [
    "#to retrieve name\n",
    "pattern = 'Born (.*)'\n",
    "re.findall(pattern,chat4)"
   ]
  },
  {
   "cell_type": "code",
   "execution_count": 24,
   "id": "b98ffaae",
   "metadata": {},
   "outputs": [
    {
     "data": {
      "text/plain": [
       "['June 28, 1971 ']"
      ]
     },
     "execution_count": 24,
     "metadata": {},
     "output_type": "execute_result"
    }
   ],
   "source": [
    "#to get birth place and birthdate\n",
    "pattern = 'Born .*\\n(.*)\\(age'\n",
    "re.findall(pattern,chat4)  #to get the birthdate"
   ]
  },
  {
   "cell_type": "code",
   "execution_count": 25,
   "id": "d3cf9582",
   "metadata": {},
   "outputs": [
    {
     "data": {
      "text/plain": [
       "['Pretoria, Transvaal, South Africa']"
      ]
     },
     "execution_count": 25,
     "metadata": {},
     "output_type": "execute_result"
    }
   ],
   "source": [
    "#to get birthplace\n",
    "pattern = '\\(age.*\\n(.*)'\n",
    "re.findall(pattern,chat4)\n"
   ]
  },
  {
   "cell_type": "code",
   "execution_count": 26,
   "id": "3f7054e0",
   "metadata": {},
   "outputs": [],
   "source": [
    "#lets write a function\n",
    "\n",
    "def get_pattern_match(pattern,text):\n",
    "    matches = re.findall(pattern,text)\n",
    "    if matches:\n",
    "        return matches[0]"
   ]
  },
  {
   "cell_type": "code",
   "execution_count": 27,
   "id": "664fe401",
   "metadata": {},
   "outputs": [
    {
     "data": {
      "text/plain": [
       "'Pretoria, Transvaal, South Africa'"
      ]
     },
     "execution_count": 27,
     "metadata": {},
     "output_type": "execute_result"
    }
   ],
   "source": [
    "get_pattern_match('\\(age.*\\n(.*)',chat4) #this is a simple function to get the information"
   ]
  },
  {
   "cell_type": "code",
   "execution_count": 30,
   "id": "e1e6eacd",
   "metadata": {},
   "outputs": [],
   "source": [
    "def get_personal_information(text):\n",
    "    age = get_pattern_match('age (\\d+)',text)\n",
    "    full_name = get_pattern_match('Born (.*)',text)\n",
    "    birth_date = get_pattern_match('Born .*\\n(.*)\\(age',text)\n",
    "    birth_place = get_pattern_match('\\(age.*\\n(.*)',text)\n",
    "    return {\n",
    "        'age' : int(age),\n",
    "        'name' : full_name,\n",
    "        'birth_date' : birth_date.strip(),\n",
    "        'birth_place' : birth_place.strip()\n",
    "    }\n"
   ]
  },
  {
   "cell_type": "code",
   "execution_count": 31,
   "id": "d13a4725",
   "metadata": {},
   "outputs": [
    {
     "data": {
      "text/plain": [
       "{'age': 52,\n",
       " 'name': '  Elon Reeve Musk',\n",
       " 'birth_date': 'June 28, 1971',\n",
       " 'birth_place': 'Pretoria, Transvaal, South Africa'}"
      ]
     },
     "execution_count": 31,
     "metadata": {},
     "output_type": "execute_result"
    }
   ],
   "source": [
    "get_personal_information(chat4)"
   ]
  },
  {
   "cell_type": "code",
   "execution_count": 33,
   "id": "bb60fb85",
   "metadata": {},
   "outputs": [],
   "source": [
    "chat5='''\n",
    "Born\tMukesh Dhirubhai Ambani\n",
    "19 April 1957 (age 66)\n",
    "Aden, Colony of Aden\n",
    "(present-day Yemen)[1][2]\n",
    "Nationality\tIndian\n",
    "Alma mater\t\n",
    "St. Xavier's College, Mumbai\n",
    "Institute of Chemical Technology (B.E.)\n",
    "Occupation(s)\tChairman and MD, Reliance Industries\n",
    "Spouse\tNita Ambani ​(m. 1985)​[3]\n",
    "'''"
   ]
  },
  {
   "cell_type": "code",
   "execution_count": 34,
   "id": "8b59a95e",
   "metadata": {},
   "outputs": [
    {
     "ename": "AttributeError",
     "evalue": "'NoneType' object has no attribute 'strip'",
     "output_type": "error",
     "traceback": [
      "\u001b[1;31m---------------------------------------------------------------------------\u001b[0m",
      "\u001b[1;31mAttributeError\u001b[0m                            Traceback (most recent call last)",
      "\u001b[1;32m~\\AppData\\Local\\Temp\\ipykernel_1568\\44302358.py\u001b[0m in \u001b[0;36m<cell line: 1>\u001b[1;34m()\u001b[0m\n\u001b[1;32m----> 1\u001b[1;33m \u001b[0mget_personal_information\u001b[0m\u001b[1;33m(\u001b[0m\u001b[0mchat5\u001b[0m\u001b[1;33m)\u001b[0m\u001b[1;33m\u001b[0m\u001b[1;33m\u001b[0m\u001b[0m\n\u001b[0m",
      "\u001b[1;32m~\\AppData\\Local\\Temp\\ipykernel_1568\\2629475319.py\u001b[0m in \u001b[0;36mget_personal_information\u001b[1;34m(text)\u001b[0m\n\u001b[0;32m      7\u001b[0m         \u001b[1;34m'age'\u001b[0m \u001b[1;33m:\u001b[0m \u001b[0mint\u001b[0m\u001b[1;33m(\u001b[0m\u001b[0mage\u001b[0m\u001b[1;33m)\u001b[0m\u001b[1;33m,\u001b[0m\u001b[1;33m\u001b[0m\u001b[1;33m\u001b[0m\u001b[0m\n\u001b[0;32m      8\u001b[0m         \u001b[1;34m'name'\u001b[0m \u001b[1;33m:\u001b[0m \u001b[0mfull_name\u001b[0m\u001b[1;33m,\u001b[0m\u001b[1;33m\u001b[0m\u001b[1;33m\u001b[0m\u001b[0m\n\u001b[1;32m----> 9\u001b[1;33m         \u001b[1;34m'birth_date'\u001b[0m \u001b[1;33m:\u001b[0m \u001b[0mbirth_date\u001b[0m\u001b[1;33m.\u001b[0m\u001b[0mstrip\u001b[0m\u001b[1;33m(\u001b[0m\u001b[1;33m)\u001b[0m\u001b[1;33m,\u001b[0m\u001b[1;33m\u001b[0m\u001b[1;33m\u001b[0m\u001b[0m\n\u001b[0m\u001b[0;32m     10\u001b[0m         \u001b[1;34m'birth_place'\u001b[0m \u001b[1;33m:\u001b[0m \u001b[0mbirth_place\u001b[0m\u001b[1;33m.\u001b[0m\u001b[0mstrip\u001b[0m\u001b[1;33m(\u001b[0m\u001b[1;33m)\u001b[0m\u001b[1;33m\u001b[0m\u001b[1;33m\u001b[0m\u001b[0m\n\u001b[0;32m     11\u001b[0m     }\n",
      "\u001b[1;31mAttributeError\u001b[0m: 'NoneType' object has no attribute 'strip'"
     ]
    }
   ],
   "source": [
    "# get_personal_information(chat5)"
   ]
  },
  {
   "cell_type": "code",
   "execution_count": 35,
   "id": "be6cfcea",
   "metadata": {},
   "outputs": [],
   "source": [
    "#get information from tesla report"
   ]
  },
  {
   "cell_type": "code",
   "execution_count": null,
   "id": "ed7e6eca",
   "metadata": {},
   "outputs": [],
   "source": []
  }
 ],
 "metadata": {
  "kernelspec": {
   "display_name": "Python 3 (ipykernel)",
   "language": "python",
   "name": "python3"
  },
  "language_info": {
   "codemirror_mode": {
    "name": "ipython",
    "version": 3
   },
   "file_extension": ".py",
   "mimetype": "text/x-python",
   "name": "python",
   "nbconvert_exporter": "python",
   "pygments_lexer": "ipython3",
   "version": "3.10.9"
  }
 },
 "nbformat": 4,
 "nbformat_minor": 5
}
